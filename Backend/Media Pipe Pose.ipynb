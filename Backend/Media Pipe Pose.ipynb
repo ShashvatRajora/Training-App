{
 "cells": [
  {
   "cell_type": "code",
   "execution_count": null,
   "id": "a93248ca-9e08-485f-88ee-970a47a9e8d4",
   "metadata": {
    "scrolled": true
   },
   "outputs": [
    {
     "name": "stdout",
     "output_type": "stream",
     "text": [
      "Requirement already satisfied: mediapipe in e:\\anaconda3\\lib\\site-packages (0.10.21)\n",
      "Requirement already satisfied: opencv-python in e:\\anaconda3\\lib\\site-packages (4.11.0.86)\n",
      "Requirement already satisfied: absl-py in e:\\anaconda3\\lib\\site-packages (from mediapipe) (2.1.0)\n",
      "Requirement already satisfied: attrs>=19.1.0 in e:\\anaconda3\\lib\\site-packages (from mediapipe) (23.1.0)\n",
      "Requirement already satisfied: flatbuffers>=2.0 in e:\\anaconda3\\lib\\site-packages (from mediapipe) (25.2.10)\n",
      "Requirement already satisfied: jax in e:\\anaconda3\\lib\\site-packages (from mediapipe) (0.5.1)\n",
      "Requirement already satisfied: jaxlib in e:\\anaconda3\\lib\\site-packages (from mediapipe) (0.5.1)\n",
      "Requirement already satisfied: matplotlib in e:\\anaconda3\\lib\\site-packages (from mediapipe) (3.9.2)\n",
      "Requirement already satisfied: numpy<2 in e:\\anaconda3\\lib\\site-packages (from mediapipe) (1.26.4)\n",
      "Requirement already satisfied: opencv-contrib-python in e:\\anaconda3\\lib\\site-packages (from mediapipe) (4.11.0.86)\n",
      "Requirement already satisfied: protobuf<5,>=4.25.3 in e:\\anaconda3\\lib\\site-packages (from mediapipe) (4.25.3)\n",
      "Requirement already satisfied: sounddevice>=0.4.4 in e:\\anaconda3\\lib\\site-packages (from mediapipe) (0.5.1)\n",
      "Requirement already satisfied: sentencepiece in e:\\anaconda3\\lib\\site-packages (from mediapipe) (0.2.0)\n",
      "Requirement already satisfied: CFFI>=1.0 in e:\\anaconda3\\lib\\site-packages (from sounddevice>=0.4.4->mediapipe) (1.17.1)\n",
      "Requirement already satisfied: ml_dtypes>=0.4.0 in e:\\anaconda3\\lib\\site-packages (from jax->mediapipe) (0.4.1)\n",
      "Requirement already satisfied: opt_einsum in e:\\anaconda3\\lib\\site-packages (from jax->mediapipe) (3.4.0)\n",
      "Requirement already satisfied: scipy>=1.11.1 in e:\\anaconda3\\lib\\site-packages (from jax->mediapipe) (1.13.1)\n",
      "Requirement already satisfied: contourpy>=1.0.1 in e:\\anaconda3\\lib\\site-packages (from matplotlib->mediapipe) (1.2.0)\n",
      "Requirement already satisfied: cycler>=0.10 in e:\\anaconda3\\lib\\site-packages (from matplotlib->mediapipe) (0.11.0)\n",
      "Requirement already satisfied: fonttools>=4.22.0 in e:\\anaconda3\\lib\\site-packages (from matplotlib->mediapipe) (4.51.0)\n",
      "Requirement already satisfied: kiwisolver>=1.3.1 in e:\\anaconda3\\lib\\site-packages (from matplotlib->mediapipe) (1.4.4)\n",
      "Requirement already satisfied: packaging>=20.0 in e:\\anaconda3\\lib\\site-packages (from matplotlib->mediapipe) (24.1)\n",
      "Requirement already satisfied: pillow>=8 in e:\\anaconda3\\lib\\site-packages (from matplotlib->mediapipe) (10.4.0)\n",
      "Requirement already satisfied: pyparsing>=2.3.1 in e:\\anaconda3\\lib\\site-packages (from matplotlib->mediapipe) (3.1.2)\n",
      "Requirement already satisfied: python-dateutil>=2.7 in e:\\anaconda3\\lib\\site-packages (from matplotlib->mediapipe) (2.9.0.post0)\n",
      "Requirement already satisfied: pycparser in e:\\anaconda3\\lib\\site-packages (from CFFI>=1.0->sounddevice>=0.4.4->mediapipe) (2.21)\n",
      "Requirement already satisfied: six>=1.5 in e:\\anaconda3\\lib\\site-packages (from python-dateutil>=2.7->matplotlib->mediapipe) (1.16.0)\n"
     ]
    }
   ],
   "source": [
    "!pip install mediapipe opencv-python"
   ]
  },
  {
   "cell_type": "code",
   "execution_count": 5,
   "id": "e243dd2f-02e6-4f7a-98cd-c0f9ed25f747",
   "metadata": {},
   "outputs": [],
   "source": [
    "import cv2\n",
    "import mediapipe as mp\n",
    "import numpy as np\n",
    "mp_drawing = mp.solutions.drawing_utils\n",
    "mp_pose = mp.solutions.pose"
   ]
  },
  {
   "cell_type": "code",
   "execution_count": 6,
   "id": "7188507f-fe74-40f0-bb81-4989a2774b38",
   "metadata": {},
   "outputs": [],
   "source": [
    "#VIDEO FEED\n",
    "cap = cv2.VideoCapture(0)\n",
    "while cap.isOpened():\n",
    "    ret, frame = cap.read()\n",
    "    cv2.imshow('Mediapipe Feed', frame)\n",
    "\n",
    "    if cv2.waitKey(10) & 0xFF == ord('q'):\n",
    "        break\n",
    "\n",
    "cap.release()\n",
    "cv2.destroyAllWindows()"
   ]
  },
  {
   "cell_type": "code",
   "execution_count": 7,
   "id": "131b0f88-1cef-4081-b36d-ecc29a6902c7",
   "metadata": {},
   "outputs": [],
   "source": [
    "# Making Detection\n",
    "cap = cv2.VideoCapture(0)\n",
    "## Setup mediapipe instance \n",
    "with mp_pose.Pose(min_detection_confidence=0.5, min_tracking_confidence=0.5) as pose:\n",
    "  while cap.isOpened():\n",
    "    ret, frame = cap.read()\n",
    "\n",
    "     #recolor image to RGB\n",
    "    image = cv2.cvtColor(frame, cv2.COLOR_BGR2RGB)\n",
    "    image.flags.writeable = False\n",
    "\n",
    "    # Making detections\n",
    "    results = pose.process(image)\n",
    "\n",
    "    # recolor back to BGR\n",
    "    image.flags.writeable = True\n",
    "    image = cv2.cvtColor(image, cv2.COLOR_RGB2BGR)\n",
    "\n",
    "    # Render Detection\n",
    "    mp_drawing.draw_landmarks(image, results.pose_landmarks, mp_pose.POSE_CONNECTIONS,\n",
    "                             mp_drawing.DrawingSpec(color=(245,177,66), thickness=2, circle_radius=2),\n",
    "                             mp_drawing.DrawingSpec(color=(245,66,230), thickness=2, circle_radius=2)\n",
    "                             )\n",
    "      \n",
    "    cv2.imshow('Mediapipe Feed', image)\n",
    "\n",
    "    if cv2.waitKey(10) & 0xFF == ord('q'):\n",
    "        break\n",
    "        \n",
    "cap.release()\n",
    "cv2.destroyAllWindows()"
   ]
  },
  {
   "cell_type": "code",
   "execution_count": 8,
   "id": "ff940954-aa5a-44d8-93ab-5113767b6eb4",
   "metadata": {
    "scrolled": true
   },
   "outputs": [
    {
     "data": {
      "text/plain": [
       "\u001b[1;31mInit signature:\u001b[0m\n",
       "\u001b[0mmp_drawing\u001b[0m\u001b[1;33m.\u001b[0m\u001b[0mDrawingSpec\u001b[0m\u001b[1;33m(\u001b[0m\u001b[1;33m\n",
       "\u001b[0m    \u001b[0mcolor\u001b[0m\u001b[1;33m:\u001b[0m \u001b[0mTuple\u001b[0m\u001b[1;33m[\u001b[0m\u001b[0mint\u001b[0m\u001b[1;33m,\u001b[0m \u001b[0mint\u001b[0m\u001b[1;33m,\u001b[0m \u001b[0mint\u001b[0m\u001b[1;33m]\u001b[0m \u001b[1;33m=\u001b[0m \u001b[1;33m(\u001b[0m\u001b[1;36m224\u001b[0m\u001b[1;33m,\u001b[0m \u001b[1;36m224\u001b[0m\u001b[1;33m,\u001b[0m \u001b[1;36m224\u001b[0m\u001b[1;33m)\u001b[0m\u001b[1;33m,\u001b[0m\u001b[1;33m\n",
       "\u001b[0m    \u001b[0mthickness\u001b[0m\u001b[1;33m:\u001b[0m \u001b[0mint\u001b[0m \u001b[1;33m=\u001b[0m \u001b[1;36m2\u001b[0m\u001b[1;33m,\u001b[0m\u001b[1;33m\n",
       "\u001b[0m    \u001b[0mcircle_radius\u001b[0m\u001b[1;33m:\u001b[0m \u001b[0mint\u001b[0m \u001b[1;33m=\u001b[0m \u001b[1;36m2\u001b[0m\u001b[1;33m,\u001b[0m\u001b[1;33m\n",
       "\u001b[0m\u001b[1;33m)\u001b[0m \u001b[1;33m->\u001b[0m \u001b[1;32mNone\u001b[0m\u001b[1;33m\u001b[0m\u001b[1;33m\u001b[0m\u001b[0m\n",
       "\u001b[1;31mDocstring:\u001b[0m      DrawingSpec(color: Tuple[int, int, int] = (224, 224, 224), thickness: int = 2, circle_radius: int = 2)\n",
       "\u001b[1;31mSource:\u001b[0m        \n",
       "\u001b[1;33m@\u001b[0m\u001b[0mdataclasses\u001b[0m\u001b[1;33m.\u001b[0m\u001b[0mdataclass\u001b[0m\u001b[1;33m\n",
       "\u001b[0m\u001b[1;32mclass\u001b[0m \u001b[0mDrawingSpec\u001b[0m\u001b[1;33m:\u001b[0m\u001b[1;33m\n",
       "\u001b[0m  \u001b[1;31m# Color for drawing the annotation. Default to the white color.\u001b[0m\u001b[1;33m\n",
       "\u001b[0m  \u001b[0mcolor\u001b[0m\u001b[1;33m:\u001b[0m \u001b[0mTuple\u001b[0m\u001b[1;33m[\u001b[0m\u001b[0mint\u001b[0m\u001b[1;33m,\u001b[0m \u001b[0mint\u001b[0m\u001b[1;33m,\u001b[0m \u001b[0mint\u001b[0m\u001b[1;33m]\u001b[0m \u001b[1;33m=\u001b[0m \u001b[0mWHITE_COLOR\u001b[0m\u001b[1;33m\n",
       "\u001b[0m  \u001b[1;31m# Thickness for drawing the annotation. Default to 2 pixels.\u001b[0m\u001b[1;33m\n",
       "\u001b[0m  \u001b[0mthickness\u001b[0m\u001b[1;33m:\u001b[0m \u001b[0mint\u001b[0m \u001b[1;33m=\u001b[0m \u001b[1;36m2\u001b[0m\u001b[1;33m\n",
       "\u001b[0m  \u001b[1;31m# Circle radius. Default to 2 pixels.\u001b[0m\u001b[1;33m\n",
       "\u001b[0m  \u001b[0mcircle_radius\u001b[0m\u001b[1;33m:\u001b[0m \u001b[0mint\u001b[0m \u001b[1;33m=\u001b[0m \u001b[1;36m2\u001b[0m\u001b[1;33m\u001b[0m\u001b[1;33m\u001b[0m\u001b[0m\n",
       "\u001b[1;31mFile:\u001b[0m           e:\\anaconda3\\lib\\site-packages\\mediapipe\\python\\solutions\\drawing_utils.py\n",
       "\u001b[1;31mType:\u001b[0m           type\n",
       "\u001b[1;31mSubclasses:\u001b[0m     "
      ]
     },
     "metadata": {},
     "output_type": "display_data"
    }
   ],
   "source": [
    "mp_drawing.DrawingSpec??"
   ]
  },
  {
   "cell_type": "markdown",
   "id": "3e7bcf86-d2cd-4451-9f17-ba89736b0c0b",
   "metadata": {},
   "source": [
    " <img src = \"https://i.imgur.com/3j8BPdc.png\" style=\"height:300px\">"
   ]
  },
  {
   "cell_type": "code",
   "execution_count": 9,
   "id": "e44a3d4b-9f03-4a67-ba88-75b747efa700",
   "metadata": {},
   "outputs": [
    {
     "name": "stdout",
     "output_type": "stream",
     "text": [
      "[x: 0.5625630021095276\n",
      "y: 0.7956641912460327\n",
      "z: -1.418363332748413\n",
      "visibility: 0.9991602897644043\n",
      ", x: 0.6016135215759277\n",
      "y: 0.7042907476425171\n",
      "z: -1.3959969282150269\n",
      "visibility: 0.9984704852104187\n",
      ", x: 0.6262794137001038\n",
      "y: 0.7007687091827393\n",
      "z: -1.3959914445877075\n",
      "visibility: 0.9987826943397522\n",
      ", x: 0.6490165591239929\n",
      "y: 0.6979492902755737\n",
      "z: -1.396308183670044\n",
      "visibility: 0.9981316924095154\n",
      ", x: 0.527776300907135\n",
      "y: 0.7068592309951782\n",
      "z: -1.3786355257034302\n",
      "visibility: 0.9985442161560059\n",
      ", x: 0.505739152431488\n",
      "y: 0.7032508850097656\n",
      "z: -1.3779525756835938\n",
      "visibility: 0.9988721013069153\n",
      ", x: 0.4877575933933258\n",
      "y: 0.7003076076507568\n",
      "z: -1.3782826662063599\n",
      "visibility: 0.9985529780387878\n",
      ", x: 0.6923806667327881\n",
      "y: 0.7001329660415649\n",
      "z: -0.9647279977798462\n",
      "visibility: 0.9988221526145935\n",
      ", x: 0.47085142135620117\n",
      "y: 0.7063033580780029\n",
      "z: -0.8702923655509949\n",
      "visibility: 0.9991449117660522\n",
      ", x: 0.611699640750885\n",
      "y: 0.8608094453811646\n",
      "z: -1.2341614961624146\n",
      "visibility: 0.9990683197975159\n",
      ", x: 0.5284053087234497\n",
      "y: 0.8609079122543335\n",
      "z: -1.207188367843628\n",
      "visibility: 0.999245285987854\n",
      ", x: 0.8495469093322754\n",
      "y: 0.983559787273407\n",
      "z: -0.5556839108467102\n",
      "visibility: 0.9873392581939697\n",
      ", x: 0.364122211933136\n",
      "y: 0.9766215682029724\n",
      "z: -0.5260190367698669\n",
      "visibility: 0.9962030053138733\n",
      ", x: 0.9380003809928894\n",
      "y: 1.3594201803207397\n",
      "z: -0.5763335824012756\n",
      "visibility: 0.06552260369062424\n",
      ", x: 0.2981218993663788\n",
      "y: 1.4425289630889893\n",
      "z: -0.7328703999519348\n",
      "visibility: 0.10947767645120621\n",
      ", x: 0.8802669644355774\n",
      "y: 1.5768685340881348\n",
      "z: -1.0166231393814087\n",
      "visibility: 0.03208453208208084\n",
      ", x: 0.33621177077293396\n",
      "y: 1.565076470375061\n",
      "z: -1.6442897319793701\n",
      "visibility: 0.12155458331108093\n",
      ", x: 0.895495593547821\n",
      "y: 1.6652095317840576\n",
      "z: -1.1340116262435913\n",
      "visibility: 0.054744258522987366\n",
      ", x: 0.32719364762306213\n",
      "y: 1.630540132522583\n",
      "z: -1.8371198177337646\n",
      "visibility: 0.17899031937122345\n",
      ", x: 0.8545318841934204\n",
      "y: 1.6274387836456299\n",
      "z: -1.1962881088256836\n",
      "visibility: 0.08615333586931229\n",
      ", x: 0.35212114453315735\n",
      "y: 1.5782592296600342\n",
      "z: -1.8787343502044678\n",
      "visibility: 0.25519469380378723\n",
      ", x: 0.8368710279464722\n",
      "y: 1.5933194160461426\n",
      "z: -1.0608421564102173\n",
      "visibility: 0.08597051352262497\n",
      ", x: 0.36986565589904785\n",
      "y: 1.5534863471984863\n",
      "z: -1.6901366710662842\n",
      "visibility: 0.2304324060678482\n",
      ", x: 0.768368661403656\n",
      "y: 1.7547359466552734\n",
      "z: -0.05053643137216568\n",
      "visibility: 0.0003876797272823751\n",
      ", x: 0.4383626878261566\n",
      "y: 1.7494839429855347\n",
      "z: 0.056212373077869415\n",
      "visibility: 0.00036064436426386237\n",
      ", x: 0.7512131333351135\n",
      "y: 2.4375243186950684\n",
      "z: -0.05553031712770462\n",
      "visibility: 0.0005789461429230869\n",
      ", x: 0.44318681955337524\n",
      "y: 2.4193177223205566\n",
      "z: -0.01944729872047901\n",
      "visibility: 0.0002839264052454382\n",
      ", x: 0.7465385794639587\n",
      "y: 3.042851448059082\n",
      "z: 0.5588158965110779\n",
      "visibility: 5.069424514658749e-05\n",
      ", x: 0.44837483763694763\n",
      "y: 3.0392227172851562\n",
      "z: 0.3869546055793762\n",
      "visibility: 7.44065528124338e-06\n",
      ", x: 0.7553479075431824\n",
      "y: 3.134770631790161\n",
      "z: 0.5824578404426575\n",
      "visibility: 3.506750363158062e-05\n",
      ", x: 0.4456148147583008\n",
      "y: 3.1325254440307617\n",
      "z: 0.4031723141670227\n",
      "visibility: 1.14176727947779e-05\n",
      ", x: 0.6903887391090393\n",
      "y: 3.2463769912719727\n",
      "z: -0.1086062341928482\n",
      "visibility: 5.825853440910578e-05\n",
      ", x: 0.49521446228027344\n",
      "y: 3.2402217388153076\n",
      "z: -0.35761263966560364\n",
      "visibility: 3.7550013075815514e-05\n",
      "]\n"
     ]
    }
   ],
   "source": [
    "cap = cv2.VideoCapture(0)\n",
    "## Setup mediapipe instance \n",
    "with mp_pose.Pose(min_detection_confidence=0.5, min_tracking_confidence=0.5) as pose:\n",
    "  while cap.isOpened():\n",
    "    ret, frame = cap.read()\n",
    "\n",
    "     #recolor image to RGB\n",
    "    image = cv2.cvtColor(frame, cv2.COLOR_BGR2RGB)\n",
    "    image.flags.writeable = False\n",
    "\n",
    "    # Making detections\n",
    "    results = pose.process(image)\n",
    "\n",
    "    # recolor back to BGR\n",
    "    image.flags.writeable = True\n",
    "    image = cv2.cvtColor(image, cv2.COLOR_RGB2BGR)\n",
    "\n",
    "    # Extract landmarks\n",
    "    try:\n",
    "          landmarks = results.pose_landmarks.landmark\n",
    "          print(landmarks)\n",
    "    except:\n",
    "          pass \n",
    "\n",
    "    # Render Detection\n",
    "    mp_drawing.draw_landmarks(image, results.pose_landmarks, mp_pose.POSE_CONNECTIONS,\n",
    "                             mp_drawing.DrawingSpec(color=(245,177,66), thickness=2, circle_radius=2),\n",
    "                             mp_drawing.DrawingSpec(color=(245,66,230), thickness=2, circle_radius=2)\n",
    "                             )\n",
    "      \n",
    "    cv2.imshow('Mediapipe Feed', image)\n",
    "\n",
    "    if cv2.waitKey(10) & 0xFF == ord('q'):\n",
    "        break\n",
    "        \n",
    "cap.release()\n",
    "cv2.destroyAllWindows()"
   ]
  },
  {
   "cell_type": "code",
   "execution_count": 172,
   "id": "b56fce88-fbde-4194-9689-ffe61a301edd",
   "metadata": {},
   "outputs": [
    {
     "data": {
      "text/plain": [
       "33"
      ]
     },
     "execution_count": 172,
     "metadata": {},
     "output_type": "execute_result"
    }
   ],
   "source": [
    "len(landmarks)"
   ]
  },
  {
   "cell_type": "code",
   "execution_count": 10,
   "id": "a0d17d7d-77cb-41ba-b9a8-0006b7188f4f",
   "metadata": {
    "scrolled": true
   },
   "outputs": [
    {
     "name": "stdout",
     "output_type": "stream",
     "text": [
      "0\n",
      "1\n",
      "2\n",
      "3\n",
      "4\n",
      "5\n",
      "6\n",
      "7\n",
      "8\n",
      "9\n",
      "10\n",
      "11\n",
      "12\n",
      "13\n",
      "14\n",
      "15\n",
      "16\n",
      "17\n",
      "18\n",
      "19\n",
      "20\n",
      "21\n",
      "22\n",
      "23\n",
      "24\n",
      "25\n",
      "26\n",
      "27\n",
      "28\n",
      "29\n",
      "30\n",
      "31\n",
      "32\n"
     ]
    }
   ],
   "source": [
    "for lndmrk in mp_pose.PoseLandmark:\n",
    "    print(lndmrk)"
   ]
  },
  {
   "cell_type": "code",
   "execution_count": 182,
   "id": "9d30a712-5823-4234-a1b9-8c2beffdbc49",
   "metadata": {},
   "outputs": [
    {
     "data": {
      "text/plain": [
       "0.9936845302581787"
      ]
     },
     "execution_count": 182,
     "metadata": {},
     "output_type": "execute_result"
    }
   ],
   "source": [
    "landmarks[mp_pose.PoseLandmark.LEFT_SHOULDER.value].visibility"
   ]
  },
  {
   "cell_type": "code",
   "execution_count": 11,
   "id": "d9b16591-1ba0-4802-9517-59695e54ef3d",
   "metadata": {},
   "outputs": [
    {
     "data": {
      "text/plain": [
       "x: 0.9380003809928894\n",
       "y: 1.3594201803207397\n",
       "z: -0.5763335824012756\n",
       "visibility: 0.06552260369062424"
      ]
     },
     "execution_count": 11,
     "metadata": {},
     "output_type": "execute_result"
    }
   ],
   "source": [
    "landmarks[mp_pose.PoseLandmark.LEFT_ELBOW.value]"
   ]
  },
  {
   "cell_type": "code",
   "execution_count": 184,
   "id": "5a5177f8-d2a5-4429-84da-8d476f1d039c",
   "metadata": {},
   "outputs": [
    {
     "data": {
      "text/plain": [
       "x: 0.6820517778396606\n",
       "y: 1.5565744638442993\n",
       "z: -1.1063270568847656\n",
       "visibility: 0.5106194019317627"
      ]
     },
     "execution_count": 184,
     "metadata": {},
     "output_type": "execute_result"
    }
   ],
   "source": [
    "landmarks[mp_pose.PoseLandmark.LEFT_WRIST.value]"
   ]
  },
  {
   "cell_type": "code",
   "execution_count": 12,
   "id": "4d5cf6b3-8847-4373-8ea6-6a3df27b017d",
   "metadata": {},
   "outputs": [],
   "source": [
    "#CALCULATE ANGLES\n",
    "def calculate_angle(a,b,c):\n",
    "    a = np.array(a) # First\n",
    "    b = np.array(b) # Mid\n",
    "    c = np.array(c) # End\n",
    "    \n",
    "    radians = np.arctan2(c[1]-b[1], c[0]-b[0]) - np.arctan2(a[1]-b[1], a[0]-b[0])\n",
    "    angle = np.abs(radians*180.0/np.pi)\n",
    "    \n",
    "    if angle >180.0:\n",
    "        angle = 360-angle\n",
    "        q\n",
    "    return angle \n"
   ]
  },
  {
   "cell_type": "code",
   "execution_count": 13,
   "id": "0fc84f58-3542-402b-9310-927548cb0696",
   "metadata": {},
   "outputs": [],
   "source": [
    "shoulder = [landmarks[mp_pose.PoseLandmark.LEFT_SHOULDER.value].x,landmarks[mp_pose.PoseLandmark.LEFT_SHOULDER.value].y]\n",
    "elbow = [landmarks[mp_pose.PoseLandmark.LEFT_ELBOW.value].x,landmarks[mp_pose.PoseLandmark.LEFT_ELBOW.value].y]\n",
    "wrist = [landmarks[mp_pose.PoseLandmark.LEFT_WRIST.value].x,landmarks[mp_pose.PoseLandmark.LEFT_WRIST.value].y]"
   ]
  },
  {
   "cell_type": "code",
   "execution_count": 14,
   "id": "3ae488ea-7a39-45db-8094-650942f6efa3",
   "metadata": {},
   "outputs": [],
   "source": [
    "hip = [landmarks[mp_pose.PoseLandmark.LEFT_HIP.value].x,landmarks[mp_pose.PoseLandmark.LEFT_HIP.value].y]\n",
    "knee = [landmarks[mp_pose.PoseLandmark.LEFT_KNEE.value].x,landmarks[mp_pose.PoseLandmark.LEFT_KNEE.value].y]\n",
    "ankle = [landmarks[mp_pose.PoseLandmark.LEFT_ANKLE.value].x,landmarks[mp_pose.PoseLandmark.LEFT_ANKLE.value].y]"
   ]
  },
  {
   "cell_type": "code",
   "execution_count": 15,
   "id": "cc637609-0c1a-4e08-b62b-0c8c63c97ccd",
   "metadata": {},
   "outputs": [
    {
     "data": {
      "text/plain": [
       "([0.8495469093322754, 0.983559787273407],\n",
       " [0.9380003809928894, 1.3594201803207397],\n",
       " [0.8802669644355774, 1.5768685340881348])"
      ]
     },
     "execution_count": 15,
     "metadata": {},
     "output_type": "execute_result"
    }
   ],
   "source": [
    "shoulder, elbow, wrist"
   ]
  },
  {
   "cell_type": "code",
   "execution_count": 16,
   "id": "ef779f3f-4b8e-480e-8b2f-b4a3804ef849",
   "metadata": {},
   "outputs": [
    {
     "data": {
      "text/plain": [
       "([0.768368661403656, 1.7547359466552734],\n",
       " [0.7512131333351135, 2.4375243186950684],\n",
       " [0.7465385794639587, 3.042851448059082])"
      ]
     },
     "execution_count": 16,
     "metadata": {},
     "output_type": "execute_result"
    }
   ],
   "source": [
    "hip, knee, ankle"
   ]
  },
  {
   "cell_type": "code",
   "execution_count": 17,
   "id": "82ba1fd8-cb62-4401-a81f-11efbf8aebd8",
   "metadata": {},
   "outputs": [
    {
     "data": {
      "text/plain": [
       "151.88799961475942"
      ]
     },
     "execution_count": 17,
     "metadata": {},
     "output_type": "execute_result"
    }
   ],
   "source": [
    "calculate_angle(shoulder, elbow, wrist)"
   ]
  },
  {
   "cell_type": "code",
   "execution_count": 18,
   "id": "0a7b4d29-90f1-4e7f-9dc9-364ceb71a963",
   "metadata": {},
   "outputs": [
    {
     "data": {
      "text/plain": [
       "179.00315673346756"
      ]
     },
     "execution_count": 18,
     "metadata": {},
     "output_type": "execute_result"
    }
   ],
   "source": [
    "calculate_angle(hip, knee, ankle)"
   ]
  },
  {
   "cell_type": "code",
   "execution_count": 19,
   "id": "b09a46ae-3a4d-40ab-b6d4-52ad6fee3919",
   "metadata": {},
   "outputs": [],
   "source": [
    "cap = cv2.VideoCapture(0)\n",
    "## Setup mediapipe instance\n",
    "with mp_pose.Pose(min_detection_confidence=0.5, min_tracking_confidence=0.5) as pose:\n",
    "    while cap.isOpened():\n",
    "        ret, frame = cap.read()\n",
    "        \n",
    "        # Recolor image to RGB\n",
    "        image = cv2.cvtColor(frame, cv2.COLOR_BGR2RGB)\n",
    "        image.flags.writeable = False\n",
    "      \n",
    "        # Make detection\n",
    "        results = pose.process(image)\n",
    "    \n",
    "        # Recolor back to BGR\n",
    "        image.flags.writeable = True\n",
    "        image = cv2.cvtColor(image, cv2.COLOR_RGB2BGR)\n",
    "        \n",
    "        # Extract landmarks\n",
    "        try:\n",
    "            landmarks = results.pose_landmarks.landmark\n",
    "            \n",
    "            # Get coordinates\n",
    "            shoulder = [landmarks[mp_pose.PoseLandmark.LEFT_SHOULDER.value].x,landmarks[mp_pose.PoseLandmark.LEFT_SHOULDER.value].y]\n",
    "            elbow = [landmarks[mp_pose.PoseLandmark.LEFT_ELBOW.value].x,landmarks[mp_pose.PoseLandmark.LEFT_ELBOW.value].y]\n",
    "            wrist = [landmarks[mp_pose.PoseLandmark.LEFT_WRIST.value].x,landmarks[mp_pose.PoseLandmark.LEFT_WRIST.value].y]\n",
    "            \n",
    "            # Calculate angle\n",
    "            angle = calculate_angle(shoulder, elbow, wrist)\n",
    "            \n",
    "            # Visualize angle\n",
    "            cv2.putText(image, str(angle), \n",
    "                           tuple(np.multiply(elbow, [640, 480]).astype(int)), \n",
    "                           cv2.FONT_HERSHEY_SIMPLEX, 0.5, (255, 255, 255), 2, cv2.LINE_AA\n",
    "                                )\n",
    "                       \n",
    "        except:\n",
    "            pass\n",
    "        \n",
    "        \n",
    "        # Render detections\n",
    "        mp_drawing.draw_landmarks(image, results.pose_landmarks, mp_pose.POSE_CONNECTIONS,\n",
    "                                mp_drawing.DrawingSpec(color=(245,117,66), thickness=2, circle_radius=2), \n",
    "                                mp_drawing.DrawingSpec(color=(245,66,230), thickness=2, circle_radius=2) \n",
    "                                 )               \n",
    "        \n",
    "        cv2.imshow('Mediapipe Feed', image)\n",
    "\n",
    "        if cv2.waitKey(10) & 0xFF == ord('q'):\n",
    "            break\n",
    "\n",
    "    cap.release()\n",
    "    cv2.destroyAllWindows()"
   ]
  },
  {
   "cell_type": "code",
   "execution_count": null,
   "id": "1aa410b7-6395-475e-ac77-157e7237bd77",
   "metadata": {
    "scrolled": true
   },
   "outputs": [
    {
     "name": "stdout",
     "output_type": "stream",
     "text": [
      "1\n",
      "2\n",
      "3\n",
      "4\n"
     ]
    }
   ],
   "source": [
    "cap = cv2.VideoCapture(0)\n",
    "\n",
    "# Curl counter variables\n",
    "counter = 0 \n",
    "stage = None\n",
    "exercise_mode = \"bicep\"  # Default mode, change it dynamically from frontend if needed\n",
    "\n",
    "## Setup mediapipe instance\n",
    "with mp_pose.Pose(min_detection_confidence=0.5, min_tracking_confidence=0.5) as pose:\n",
    "    while cap.isOpened():\n",
    "        ret, frame = cap.read()\n",
    "        \n",
    "        # Recolor image to RGB\n",
    "        image = cv2.cvtColor(frame, cv2.COLOR_BGR2RGB)\n",
    "        image.flags.writeable = False\n",
    "      \n",
    "        # Make detection\n",
    "        results = pose.process(image)\n",
    "    \n",
    "        # Recolor back to BGR\n",
    "        image.flags.writeable = True\n",
    "        image = cv2.cvtColor(image, cv2.COLOR_RGB2BGR)\n",
    "        \n",
    "        # Extract landmarks\n",
    "        try:\n",
    "            landmarks = results.pose_landmarks.landmark\n",
    "            \n",
    "            # Get coordinates\n",
    "            shoulder = [landmarks[mp_pose.PoseLandmark.LEFT_SHOULDER.value].x, landmarks[mp_pose.PoseLandmark.LEFT_SHOULDER.value].y]\n",
    "            elbow = [landmarks[mp_pose.PoseLandmark.LEFT_ELBOW.value].x, landmarks[mp_pose.PoseLandmark.LEFT_ELBOW.value].y]\n",
    "            wrist = [landmarks[mp_pose.PoseLandmark.LEFT_WRIST.value].x, landmarks[mp_pose.PoseLandmark.LEFT_WRIST.value].y]\n",
    "            \n",
    "            # Calculate angle\n",
    "            angle = calculate_angle(shoulder, elbow, wrist)\n",
    "            \n",
    "            # Visualize angle\n",
    "            cv2.putText(image, str(angle), \n",
    "                           tuple(np.multiply(elbow, [640, 480]).astype(int)), \n",
    "                           cv2.FONT_HERSHEY_SIMPLEX, 0.5, (255, 255, 255), 2, cv2.LINE_AA)\n",
    "            \n",
    "            # Set the threshold dynamically\n",
    "            angle_threshold = 30 if exercise_mode == \"bicep\" else 50  # 30 for curls, 50 for push-ups\n",
    "            \n",
    "            # Rep counting logic based on exercise mode\n",
    "            if exercise_mode == \"bicep\":\n",
    "                if angle > 170:\n",
    "                    stage = \"down\"\n",
    "                if angle < angle_threshold and stage == \"down\":\n",
    "                    stage = \"up\"\n",
    "                    counter += 1\n",
    "            else:  # Push-up Mode (Reverse logic)\n",
    "                if angle > 170:\n",
    "                    stage = \"up\"\n",
    "                if angle < angle_threshold and stage == \"up\":\n",
    "                    stage = \"down\"\n",
    "                    counter += 1\n",
    "                       \n",
    "\n",
    "        except:\n",
    "            pass\n",
    "        \n",
    "        # Render curl counter\n",
    "        # Setup status box\n",
    "        cv2.rectangle(image, (0,0), (225,73), (245,117,16), -1)\n",
    "        \n",
    "        # Rep data\n",
    "        cv2.putText(image, 'REPS', (15,12), \n",
    "                    cv2.FONT_HERSHEY_SIMPLEX, 0.5, (0,0,0), 1, cv2.LINE_AA)\n",
    "        cv2.putText(image, str(counter), \n",
    "                    (10,60), \n",
    "                    cv2.FONT_HERSHEY_SIMPLEX, 2, (255,255,255), 2, cv2.LINE_AA)\n",
    "        \n",
    "        # Stage data\n",
    "        cv2.putText(image, 'STAGE', (65,12), \n",
    "                    cv2.FONT_HERSHEY_SIMPLEX, 0.5, (0,0,0), 1, cv2.LINE_AA)\n",
    "        cv2.putText(image, stage, \n",
    "                    (60,60), \n",
    "                    cv2.FONT_HERSHEY_SIMPLEX, 2, (255,255,255), 2, cv2.LINE_AA)\n",
    "        \n",
    "        # Render detections\n",
    "        mp_drawing.draw_landmarks(image, results.pose_landmarks, mp_pose.POSE_CONNECTIONS,\n",
    "                                mp_drawing.DrawingSpec(color=(245,117,66), thickness=2, circle_radius=2), \n",
    "                                mp_drawing.DrawingSpec(color=(245,66,230), thickness=2, circle_radius=2))               \n",
    "        \n",
    "        cv2.imshow('Mediapipe Feed', image)\n",
    "\n",
    "        if cv2.waitKey(10) & 0xFF == ord('q'):\n",
    "            break\n",
    "\n",
    "    cap.release()\n",
    "    cv2.destroyAllWindows()\n"
   ]
  },
  {
   "cell_type": "code",
   "execution_count": null,
   "id": "76a04ab6-0f5b-4b1e-814e-9dc048a0ab2f",
   "metadata": {},
   "outputs": [],
   "source": []
  }
 ],
 "metadata": {
  "kernelspec": {
   "display_name": "Python 3 (ipykernel)",
   "language": "python",
   "name": "python3"
  },
  "language_info": {
   "codemirror_mode": {
    "name": "ipython",
    "version": 3
   },
   "file_extension": ".py",
   "mimetype": "text/x-python",
   "name": "python",
   "nbconvert_exporter": "python",
   "pygments_lexer": "ipython3",
   "version": "3.12.7"
  }
 },
 "nbformat": 4,
 "nbformat_minor": 5
}
